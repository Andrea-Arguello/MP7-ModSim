{
 "cells": [
  {
   "cell_type": "markdown",
   "metadata": {},
   "source": [
    "<center>\n",
    "    <b> Microproyecto #7 </b>\n",
    "    <br/> Javier Anleu 17149\n",
    "    <br/> Andrea Argüello 17801\n",
    "</center>"
   ]
  },
  {
   "cell_type": "markdown",
   "metadata": {},
   "source": [
    "# Función inversa de distribución exponencial, E[X] y Var(X)"
   ]
  },
  {
   "cell_type": "code",
   "execution_count": 1,
   "metadata": {},
   "outputs": [],
   "source": [
    "import numpy as np\n",
    "import random\n",
    "import matplotlib.pyplot as plt\n",
    "from IPython.display import display, Latex"
   ]
  },
  {
   "cell_type": "code",
   "execution_count": 2,
   "metadata": {},
   "outputs": [],
   "source": [
    "exponentialInv = lambda x,lam: -np.log(1-x)/lam # donde x es U(0,1)\n",
    "mu_exponencial = lambda lam: 1/lam\n",
    "sigma_cuadrado_exponencial = lambda lam: 1/(lam**2)"
   ]
  },
  {
   "cell_type": "markdown",
   "metadata": {},
   "source": [
    "## Ejercicio 1: Variables antitéticas, $\\lambda = 1$ "
   ]
  },
  {
   "cell_type": "code",
   "execution_count": 3,
   "metadata": {},
   "outputs": [],
   "source": [
    "lambda_1 = 1"
   ]
  },
  {
   "cell_type": "code",
   "execution_count": 4,
   "metadata": {},
   "outputs": [],
   "source": [
    "random.seed(500)\n",
    "def ej1(repeticiones):\n",
    "    X1 = []\n",
    "    X2 = []\n",
    "    Y = []\n",
    "    for i in range(repeticiones):\n",
    "        x = 1\n",
    "        while x == 1:\n",
    "            x = random.uniform(0,1)\n",
    "        X1.append(exponentialInv(x,lambda_1))\n",
    "        X2.append(exponentialInv(1-x,lambda_1))\n",
    "        Y.append((X1[-1]+X2[-1])/2)\n",
    "    return X1, X2, Y"
   ]
  },
  {
   "cell_type": "code",
   "execution_count": 5,
   "metadata": {},
   "outputs": [],
   "source": [
    "cov_xy = lambda X, Y: np.mean([x * y for x, y in zip(X, Y)])-np.mean(X)*np.mean(Y)"
   ]
  },
  {
   "cell_type": "code",
   "execution_count": 6,
   "metadata": {},
   "outputs": [],
   "source": [
    "var = lambda X: np.mean([x**2 for x in X])-(np.mean(X))**2"
   ]
  },
  {
   "cell_type": "code",
   "execution_count": 7,
   "metadata": {},
   "outputs": [],
   "source": [
    "var_mean_xy = lambda X, Y: (var(X) + var(Y) + 2*cov_xy(X,Y))/4"
   ]
  },
  {
   "cell_type": "code",
   "execution_count": 8,
   "metadata": {},
   "outputs": [],
   "source": [
    "X1, X2, Y = ej1(1000)"
   ]
  },
  {
   "cell_type": "code",
   "execution_count": 9,
   "metadata": {},
   "outputs": [
    {
     "data": {
      "text/latex": [
       "$Cov(X_1,X_2)$ = -0.606120"
      ],
      "text/plain": [
       "<IPython.core.display.Latex object>"
      ]
     },
     "metadata": {},
     "output_type": "display_data"
    }
   ],
   "source": [
    "display(Latex(f'$Cov(X_1,X_2)$ = %f' % (cov_xy(X1,X2))))"
   ]
  },
  {
   "cell_type": "markdown",
   "metadata": {},
   "source": [
    "Queda demostrado que la covarianza entre $X_1$ y $X_2$ es negativa. Como ambas provienen de la distribución exponencial, entonces $X_1$ y $X_2$ son antitéticas."
   ]
  },
  {
   "cell_type": "code",
   "execution_count": 10,
   "metadata": {},
   "outputs": [
    {
     "data": {
      "text/latex": [
       "$E[Y]$ obtenido: 0.983237, $\\mu$ esperado: 1.000000"
      ],
      "text/plain": [
       "<IPython.core.display.Latex object>"
      ]
     },
     "metadata": {},
     "output_type": "display_data"
    }
   ],
   "source": [
    "display(Latex(f'$E[Y]$ obtenido: %f, $\\mu$ esperado: %f' % (np.mean(Y), mu_exponencial(lambda_1))))"
   ]
  },
  {
   "cell_type": "code",
   "execution_count": 11,
   "metadata": {},
   "outputs": [
    {
     "data": {
      "text/latex": [
       "$Var(Y)$ obtenida: 0.167021, $\\sigma^2$ esperada: 1.000000"
      ],
      "text/plain": [
       "<IPython.core.display.Latex object>"
      ]
     },
     "metadata": {},
     "output_type": "display_data"
    }
   ],
   "source": [
    "display(Latex(f'$Var(Y)$ obtenida: %f, $\\sigma^2$ esperada: %f' % (var(Y), sigma_cuadrado_exponencial(lambda_1))))"
   ]
  },
  {
   "cell_type": "markdown",
   "metadata": {},
   "source": [
    "## Ejercicio 2: Variables de control, $\\lambda = 1$ "
   ]
  },
  {
   "cell_type": "code",
   "execution_count": 21,
   "metadata": {},
   "outputs": [],
   "source": [
    "random.seed(487)\n",
    "def ej2(repeticiones):\n",
    "    X = []\n",
    "    Y = []\n",
    "    for i in range(repeticiones):\n",
    "        x = 1\n",
    "        y = 1\n",
    "        while x == 1:\n",
    "            x = random.uniform(0,1)\n",
    "        while y == 1:\n",
    "            y = random.uniform(0,1) # sabemos que mu_y = 0.5 y var_y = 1/12\n",
    "        X.append(exponentialInv(x,lambda_1))\n",
    "        Y.append(y)\n",
    "    return X, Y\n",
    "\n",
    "def c_asterisco(lista1,lista2): #Basado en el ejemplo visto en clase\n",
    "    n=0\n",
    "    d=0\n",
    "    promedio_x=np.mean(lista1)\n",
    "    promedio_y=np.mean(lista2)\n",
    "    for i in range(len(lista1)):\n",
    "        n=n+(lista1[i]-promedio_x)*(lista2[i]-promedio_y)\n",
    "        d=d+pow(lista2[i]-promedio_y,2)\n",
    "    return -1*n/d\n",
    "        \n",
    "\n",
    "control = lambda X, Y, mu_y, c: [x + c*(y - mu_y) for x, y in zip(X,Y)]\n",
    "\n",
    "X, Y = ej2(1000)\n",
    "\n",
    "#A esta covarianza le pasamos el mu teórico de la distribución Y\n",
    "cov_xy_muy = lambda X, Y, mu_y: np.mean([x * y for x, y in zip(X, Y)])-(np.mean(X)*mu_y) \n",
    "\n",
    "c_min = c_asterisco(X, Y)"
   ]
  },
  {
   "cell_type": "code",
   "execution_count": 22,
   "metadata": {},
   "outputs": [
    {
     "data": {
      "text/latex": [
       "$E[X]$ obtenido: 0.977369, $\\mu$ esperado: 1.000000"
      ],
      "text/plain": [
       "<IPython.core.display.Latex object>"
      ]
     },
     "metadata": {},
     "output_type": "display_data"
    }
   ],
   "source": [
    "display(Latex(f'$E[X]$ obtenido: %f, $\\mu$ esperado: %f' % (np.mean(control(X, Y, 0.5, c_min)), mu_exponencial(lambda_1))))"
   ]
  },
  {
   "cell_type": "code",
   "execution_count": 23,
   "metadata": {},
   "outputs": [
    {
     "data": {
      "text/latex": [
       "$Var(X)$ obtenida: 0.872679, $\\sigma^2$ esperada: 1.000000"
      ],
      "text/plain": [
       "<IPython.core.display.Latex object>"
      ]
     },
     "metadata": {},
     "output_type": "display_data"
    }
   ],
   "source": [
    "display(Latex(f'$Var(X)$ obtenida: %f, $\\sigma^2$ esperada: %f' % (var(control(X, Y, 0.5, c_min)), sigma_cuadrado_exponencial(lambda_1))))"
   ]
  }
 ],
 "metadata": {
  "kernelspec": {
   "display_name": "Python 3",
   "language": "python",
   "name": "python3"
  },
  "language_info": {
   "codemirror_mode": {
    "name": "ipython",
    "version": 3
   },
   "file_extension": ".py",
   "mimetype": "text/x-python",
   "name": "python",
   "nbconvert_exporter": "python",
   "pygments_lexer": "ipython3",
   "version": "3.8.2"
  }
 },
 "nbformat": 4,
 "nbformat_minor": 4
}
