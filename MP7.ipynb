{
 "cells": [
  {
   "cell_type": "markdown",
   "metadata": {},
   "source": [
    "<center>\n",
    "    <b> Microproyecto #7 </b>\n",
    "    <br/> Javier Anleu 17149\n",
    "    <br/> Andrea Argüello 17801\n",
    "</center>"
   ]
  },
  {
   "cell_type": "markdown",
   "metadata": {},
   "source": [
    "# Función inversa de distribución exponencial, E[X] y Var(X)"
   ]
  },
  {
   "cell_type": "code",
   "execution_count": 1,
   "metadata": {},
   "outputs": [],
   "source": [
    "import numpy as np\n",
    "import random\n",
    "import matplotlib.pyplot as plt\n",
    "from IPython.display import display, Latex"
   ]
  },
  {
   "cell_type": "code",
   "execution_count": 2,
   "metadata": {},
   "outputs": [],
   "source": [
    "exponentialInv = lambda x,lam: -np.log(1-x)/lam # donde x es U(0,1)\n",
    "mu_exponencial = lambda lam: 1/lam\n",
    "sigma_cuadrado_exponencial = lambda lam: 1/(lam**2)"
   ]
  },
  {
   "cell_type": "markdown",
   "metadata": {},
   "source": [
    "## Ejercicio 1: Variables antitéticas, $\\lambda = 1$ "
   ]
  },
  {
   "cell_type": "code",
   "execution_count": 3,
   "metadata": {},
   "outputs": [],
   "source": [
    "lambda_1 = 1"
   ]
  },
  {
   "cell_type": "code",
   "execution_count": 4,
   "metadata": {},
   "outputs": [],
   "source": [
    "random.seed(500)\n",
    "def ej1(repeticiones):\n",
    "    X1 = []\n",
    "    X2 = []\n",
    "    Y = []\n",
    "    for i in range(repeticiones):\n",
    "        x = 1\n",
    "        while x == 1:\n",
    "            x = random.uniform(0,1)\n",
    "        X1.append(exponentialInv(x,lambda_1))\n",
    "        X2.append(exponentialInv(1-x,lambda_1))\n",
    "        Y.append((X1[-1]+X2[-1])/2)\n",
    "    return X1, X2, Y"
   ]
  },
  {
   "cell_type": "code",
   "execution_count": 5,
   "metadata": {},
   "outputs": [],
   "source": [
    "cov_xy = lambda X, Y: np.mean([x * y for x, y in zip(X, Y)])-np.mean(X)*np.mean(Y)"
   ]
  },
  {
   "cell_type": "code",
   "execution_count": 6,
   "metadata": {},
   "outputs": [],
   "source": [
    "var = lambda X: np.mean([x**2 for x in X])-(np.mean(X))**2"
   ]
  },
  {
   "cell_type": "code",
   "execution_count": 7,
   "metadata": {},
   "outputs": [],
   "source": [
    "var_mean_xy = lambda X, Y: (var(X) + var(Y) + 2*cov_xy(X,Y))/4"
   ]
  },
  {
   "cell_type": "code",
   "execution_count": 24,
   "metadata": {},
   "outputs": [],
   "source": [
    "X1, X2, Y = ej1(10000)"
   ]
  },
  {
   "cell_type": "code",
   "execution_count": 25,
   "metadata": {},
   "outputs": [
    {
     "data": {
      "text/latex": [
       "$Cov(X_1,X_2)$ = -0.638794"
      ],
      "text/plain": [
       "<IPython.core.display.Latex object>"
      ]
     },
     "metadata": {},
     "output_type": "display_data"
    }
   ],
   "source": [
    "display(Latex(f'$Cov(X_1,X_2)$ = %f' % (cov_xy(X1,X2))))"
   ]
  },
  {
   "cell_type": "markdown",
   "metadata": {},
   "source": [
    "Queda demostrado que la covarianza entre $X_1$ y $X_2$ es negativa. Como ambas provienen de la distribución exponencial, entonces $X_1$ y $X_2$ son antitéticas."
   ]
  },
  {
   "cell_type": "code",
   "execution_count": 26,
   "metadata": {},
   "outputs": [
    {
     "data": {
      "text/latex": [
       "$E[Y]$ obtenido: 0.997666, $\\mu$ esperado: 1.000000"
      ],
      "text/plain": [
       "<IPython.core.display.Latex object>"
      ]
     },
     "metadata": {},
     "output_type": "display_data"
    }
   ],
   "source": [
    "display(Latex(f'$E[Y]$ obtenido: %f, $\\mu$ esperado: %f' % (np.mean(Y), mu_exponencial(lambda_1))))"
   ]
  },
  {
   "cell_type": "code",
   "execution_count": 27,
   "metadata": {},
   "outputs": [
    {
     "data": {
      "text/latex": [
       "$Var(Y)$ obtenida: 0.183873, $\\sigma^2$ esperada: 1.000000"
      ],
      "text/plain": [
       "<IPython.core.display.Latex object>"
      ]
     },
     "metadata": {},
     "output_type": "display_data"
    }
   ],
   "source": [
    "display(Latex(f'$Var(Y)$ obtenida: %f, $\\sigma^2$ esperada: %f' % (var(Y), sigma_cuadrado_exponencial(lambda_1))))"
   ]
  },
  {
   "cell_type": "markdown",
   "metadata": {},
   "source": [
    "## Ejercicio 2: Variables de control, $\\lambda = 1$ "
   ]
  },
  {
   "cell_type": "code",
   "execution_count": 28,
   "metadata": {},
   "outputs": [],
   "source": [
    "random.seed(487)\n",
    "def ej2(repeticiones):\n",
    "    X = []\n",
    "    Y = []\n",
    "    for i in range(repeticiones):\n",
    "        x = 1\n",
    "        y = 1\n",
    "        while x == 1:\n",
    "            x = random.uniform(0,1)\n",
    "        while y == 1:\n",
    "            y = random.uniform(0,1) # sabemos que mu_y = 0.5 y var_y = 1/12\n",
    "        X.append(exponentialInv(x,lambda_1))\n",
    "        Y.append(y)\n",
    "    return X, Y\n",
    "\n",
    "def c_asterisco(lista1,lista2): #Basado en el ejemplo visto en clase\n",
    "    n=0\n",
    "    d=0\n",
    "    promedio_x=np.mean(lista1)\n",
    "    promedio_y=np.mean(lista2)\n",
    "    for i in range(len(lista1)):\n",
    "        n=n+(lista1[i]-promedio_x)*(lista2[i]-promedio_y)\n",
    "        d=d+pow(lista2[i]-promedio_y,2)\n",
    "    return -1*n/d\n",
    "        \n",
    "# A esta, le pasamos el valor teórico de la media de la distribución conocida Y, mu_y\n",
    "control = lambda X, Y, mu_y, c: [x + c*(y - mu_y) for x, y in zip(X,Y)]\n",
    "\n",
    "X, Y = ej2(10000)\n",
    "\n",
    "c_min = c_asterisco(X, Y)"
   ]
  },
  {
   "cell_type": "code",
   "execution_count": 29,
   "metadata": {},
   "outputs": [
    {
     "data": {
      "text/latex": [
       "$E[X]$ obtenido: 0.986349, $\\mu$ esperado: 1.000000"
      ],
      "text/plain": [
       "<IPython.core.display.Latex object>"
      ]
     },
     "metadata": {},
     "output_type": "display_data"
    }
   ],
   "source": [
    "display(Latex(f'$E[X]$ obtenido: %f, $\\mu$ esperado: %f' % (np.mean(control(X, Y, 0.5, c_min)), mu_exponencial(lambda_1))))"
   ]
  },
  {
   "cell_type": "code",
   "execution_count": 30,
   "metadata": {},
   "outputs": [
    {
     "data": {
      "text/latex": [
       "$Var(X)$ obtenida: 0.984136, $\\sigma^2$ esperada: 1.000000"
      ],
      "text/plain": [
       "<IPython.core.display.Latex object>"
      ]
     },
     "metadata": {},
     "output_type": "display_data"
    }
   ],
   "source": [
    "display(Latex(f'$Var(X)$ obtenida: %f, $\\sigma^2$ esperada: %f' % (var(control(X, Y, 0.5, c_min)), sigma_cuadrado_exponencial(lambda_1))))"
   ]
  },
  {
   "cell_type": "markdown",
   "metadata": {},
   "source": [
    "## Ejercicio 3: Método estratificado, $\\lambda = 1$ "
   ]
  },
  {
   "cell_type": "code",
   "execution_count": null,
   "metadata": {},
   "outputs": [],
   "source": [
    "bernoulliInv = lambda x,p: 1 if x>(1-p) else 0"
   ]
  },
  {
   "cell_type": "code",
   "execution_count": null,
   "metadata": {},
   "outputs": [],
   "source": [
    "random.seed(487)\n",
    "p=0.5\n",
    "def ej3(repeticiones):\n",
    "    X = []\n",
    "    Y = []\n",
    "    for i in range(repeticiones):\n",
    "        x = 1\n",
    "        while x == 1:\n",
    "            x = random.uniform(0,1)\n",
    "        X.append(exponentialInv(x,lambda_1))\n",
    "        Y.append(bernoulliInv(x,p)) #idk what to do here fam sorry\n",
    "    return X, Y"
   ]
  },
  {
   "cell_type": "markdown",
   "metadata": {},
   "source": [
    "## Ejercicio 4\n",
    "\n",
    "### Sea X variable aleatoria exponencial con media 1; y dado X=x, Y es una variable aleatoria exponencial con media x (X y Y son variables aleatorias dependientes). Dé una forma eficiente para estimar P(XY≤3)\n",
    "\n",
    "Nótese que si $E[X]=1$, $\\lambda_X = 1$ y si $E[Y|X=x]=x$, entonces $\\lambda_Y = 1/x$.\n",
    "\n",
    "Nota: ¿$P(XY\\leq3) = P(Y \\leq \\frac{3}{x} | X=x)$?"
   ]
  },
  {
   "cell_type": "code",
   "execution_count": 50,
   "metadata": {},
   "outputs": [],
   "source": [
    "def ej4(repeticionesx, repeticionesy):\n",
    "    X=[]\n",
    "    Y=[]\n",
    "    for i in range(repeticionesx):\n",
    "        ys = []\n",
    "        x=1\n",
    "        while x==1:\n",
    "            x=random.uniform(0,1)\n",
    "        X.append(exponentialInv(x,lambda_1))\n",
    "        for i in range(repeticionesy):\n",
    "            y=1\n",
    "            while y==1:\n",
    "                y=random.uniform(0,1)\n",
    "            ys.append(exponentialInv(y,1/X[-1]))\n",
    "        Y.append(ys)\n",
    "    return X,Y"
   ]
  },
  {
   "cell_type": "code",
   "execution_count": 51,
   "metadata": {},
   "outputs": [],
   "source": [
    "rangex, rangey = 1000,1000\n",
    "X, Y = ej4(rangex,rangey)"
   ]
  },
  {
   "cell_type": "code",
   "execution_count": 52,
   "metadata": {},
   "outputs": [],
   "source": [
    "total = 0\n",
    "for x in range(rangex):\n",
    "    for y in Y[x]:\n",
    "        if X[x]*y <= 3:\n",
    "            total+=1\n",
    "prob = total/(rangex*rangey)"
   ]
  },
  {
   "cell_type": "code",
   "execution_count": 53,
   "metadata": {},
   "outputs": [
    {
     "data": {
      "text/plain": [
       "0.860055"
      ]
     },
     "execution_count": 53,
     "metadata": {},
     "output_type": "execute_result"
    }
   ],
   "source": [
    "prob"
   ]
  },
  {
   "cell_type": "code",
   "execution_count": 54,
   "metadata": {},
   "outputs": [
    {
     "data": {
      "text/plain": [
       "0.927279"
      ]
     },
     "execution_count": 54,
     "metadata": {},
     "output_type": "execute_result"
    }
   ],
   "source": [
    "# Reduzcamos varianza\n",
    "def antitetica(repeticiones, lambda_): #basada en ej1\n",
    "    X1 = []\n",
    "    X2 = []\n",
    "    Y = []\n",
    "    for i in range(repeticiones):\n",
    "        x = 1\n",
    "        while x == 1:\n",
    "            x = random.uniform(0,1)\n",
    "        X1.append(exponentialInv(x,lambda_))\n",
    "        X2.append(exponentialInv(1-x,lambda_))\n",
    "        Y.append((X1[-1]+X2[-1])/2)\n",
    "    return Y\n",
    "\n",
    "def ej4alt(repeticionesx, repeticionesy):\n",
    "    X=antitetica(repeticionesx, 1)\n",
    "    Y=[]\n",
    "    for i in range(repeticionesx):\n",
    "        y=antitetica(repeticionesy,1/X[i])\n",
    "        Y.append(y)\n",
    "    return X,Y\n",
    "\n",
    "X, Y = ej4alt(rangex,rangey)\n",
    "total = 0\n",
    "for x in range(rangex):\n",
    "    for y in Y[x]:\n",
    "        if X[x]*y <= 3:\n",
    "            total+=1\n",
    "prob = total/(rangex*rangey)\n",
    "prob"
   ]
  }
 ],
 "metadata": {
  "kernelspec": {
   "display_name": "Python 3",
   "language": "python",
   "name": "python3"
  },
  "language_info": {
   "codemirror_mode": {
    "name": "ipython",
    "version": 3
   },
   "file_extension": ".py",
   "mimetype": "text/x-python",
   "name": "python",
   "nbconvert_exporter": "python",
   "pygments_lexer": "ipython3",
   "version": "3.8.2"
  }
 },
 "nbformat": 4,
 "nbformat_minor": 4
}
