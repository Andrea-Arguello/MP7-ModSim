{
 "cells": [
  {
   "cell_type": "markdown",
   "metadata": {},
   "source": [
    "<center>\n",
    "    <b> Microproyecto #7 </b>\n",
    "    <br/> Javier Anleu 17149\n",
    "    <br/> Andrea Argüello 17801\n",
    "</center>"
   ]
  },
  {
   "cell_type": "markdown",
   "metadata": {},
   "source": [
    "# Función inversa de distribución exponencial, E[X] y Var(X)"
   ]
  },
  {
   "cell_type": "code",
   "execution_count": 1,
   "metadata": {},
   "outputs": [],
   "source": [
    "import numpy as np\n",
    "import random\n",
    "import matplotlib.pyplot as plt\n",
    "from IPython.display import display, Latex"
   ]
  },
  {
   "cell_type": "code",
   "execution_count": 2,
   "metadata": {},
   "outputs": [],
   "source": [
    "exponentialInv = lambda x,lam: -np.log(1-x)/lam # donde x es U(0,1)\n",
    "mu_exponencial = lambda lam: 1/lam\n",
    "sigma_cuadrado_exponencial = lambda lam: 1/(lam**2)"
   ]
  },
  {
   "cell_type": "markdown",
   "metadata": {},
   "source": [
    "## Ejercicio 1: Variables antitéticas, $\\lambda = 1$ "
   ]
  },
  {
   "cell_type": "code",
   "execution_count": 3,
   "metadata": {},
   "outputs": [],
   "source": [
    "lambda_1 = 1"
   ]
  },
  {
   "cell_type": "code",
   "execution_count": 4,
   "metadata": {},
   "outputs": [],
   "source": [
    "random.seed(500)\n",
    "def expAntithetic(repeticiones):\n",
    "    X1 = []\n",
    "    X2 = []\n",
    "    Y = []\n",
    "    for i in range(repeticiones):\n",
    "        x = 1\n",
    "        while x == 1:\n",
    "            x = random.uniform(0,1)\n",
    "        X1.append(exponentialInv(x,lambda_1))\n",
    "        X2.append(exponentialInv(1-x,lambda_1))\n",
    "        Y.append((X1[-1]+X2[-1])/2)\n",
    "    return X1, X2, Y"
   ]
  },
  {
   "cell_type": "code",
   "execution_count": 5,
   "metadata": {},
   "outputs": [],
   "source": [
    "cov_xy = lambda X, Y: np.mean([x * y for x, y in zip(X, Y)])-np.mean(X)*np.mean(Y)"
   ]
  },
  {
   "cell_type": "code",
   "execution_count": 6,
   "metadata": {},
   "outputs": [],
   "source": [
    "var = lambda X: np.mean([x**2 for x in X])-(np.mean(X))**2"
   ]
  },
  {
   "cell_type": "code",
   "execution_count": 7,
   "metadata": {},
   "outputs": [],
   "source": [
    "var_mean_xy = lambda X, Y: (var(X) + var(Y) + 2*cov_xy(X,Y))/4"
   ]
  },
  {
   "cell_type": "code",
   "execution_count": 8,
   "metadata": {},
   "outputs": [],
   "source": [
    "X1, X2, Y = expAntithetic(10000)"
   ]
  },
  {
   "cell_type": "code",
   "execution_count": 9,
   "metadata": {},
   "outputs": [
    {
     "data": {
      "text/latex": [
       "$Cov(X_1,X_2)$ = -0.633585"
      ],
      "text/plain": [
       "<IPython.core.display.Latex object>"
      ]
     },
     "metadata": {},
     "output_type": "display_data"
    }
   ],
   "source": [
    "display(Latex(f'$Cov(X_1,X_2)$ = %f' % (cov_xy(X1,X2))))"
   ]
  },
  {
   "cell_type": "markdown",
   "metadata": {},
   "source": [
    "Queda demostrado que la covarianza entre $X_1$ y $X_2$ es negativa. Como ambas provienen de la distribución exponencial, entonces $X_1$ y $X_2$ son antitéticas."
   ]
  },
  {
   "cell_type": "code",
   "execution_count": 10,
   "metadata": {},
   "outputs": [
    {
     "data": {
      "text/latex": [
       "$E[Y]$ obtenido: 0.994860, $\\mu$ esperado: 1.000000"
      ],
      "text/plain": [
       "<IPython.core.display.Latex object>"
      ]
     },
     "metadata": {},
     "output_type": "display_data"
    }
   ],
   "source": [
    "display(Latex(f'$E[Y]$ obtenido: %f, $\\mu$ esperado: %f' % (np.mean(Y), mu_exponencial(lambda_1))))"
   ]
  },
  {
   "cell_type": "code",
   "execution_count": 11,
   "metadata": {},
   "outputs": [
    {
     "data": {
      "text/latex": [
       "$Var(Y)$ obtenida: 0.169313, $\\sigma^2$ esperada: 1.000000"
      ],
      "text/plain": [
       "<IPython.core.display.Latex object>"
      ]
     },
     "metadata": {},
     "output_type": "display_data"
    }
   ],
   "source": [
    "display(Latex(f'$Var(Y)$ obtenida: %f, $\\sigma^2$ esperada: %f' % (var(Y), sigma_cuadrado_exponencial(lambda_1))))"
   ]
  },
  {
   "cell_type": "code",
   "execution_count": 12,
   "metadata": {},
   "outputs": [
    {
     "data": {
      "text/plain": [
       "0.9722208618774938"
      ]
     },
     "execution_count": 12,
     "metadata": {},
     "output_type": "execute_result"
    }
   ],
   "source": [
    "X = []\n",
    "for i in range(len(X1)):\n",
    "    X.append(X1[i])\n",
    "    X.append(X2[i])\n",
    "    \n",
    "var(X)"
   ]
  },
  {
   "cell_type": "markdown",
   "metadata": {},
   "source": [
    "## Ejercicio 2: Variables de control, $\\lambda = 1$ "
   ]
  },
  {
   "cell_type": "code",
   "execution_count": 28,
   "metadata": {},
   "outputs": [],
   "source": [
    "random.seed(487)\n",
    "def ej2(repeticiones):\n",
    "    X = []\n",
    "    Y = []\n",
    "    for i in range(repeticiones):\n",
    "        x = 1\n",
    "        y = 1\n",
    "        while x == 1:\n",
    "            x = random.uniform(0,1)\n",
    "        while y == 1:\n",
    "            y = random.uniform(0,1) # sabemos que mu_y = 0.5 y var_y = 1/12\n",
    "        X.append(exponentialInv(x,lambda_1))\n",
    "        Y.append(y)\n",
    "    return X, Y\n",
    "\n",
    "def c_asterisco(lista1,lista2): #Basado en el ejemplo visto en clase\n",
    "    n=0\n",
    "    d=0\n",
    "    promedio_x=np.mean(lista1)\n",
    "    promedio_y=np.mean(lista2)\n",
    "    for i in range(len(lista1)):\n",
    "        n=n+(lista1[i]-promedio_x)*(lista2[i]-promedio_y)\n",
    "        d=d+pow(lista2[i]-promedio_y,2)\n",
    "    return -1*n/d\n",
    "        \n",
    "# A esta, le pasamos el valor teórico de la media de la distribución conocida Y, mu_y\n",
    "control = lambda X, Y, mu_y, c: [x + c*(y - mu_y) for x, y in zip(X,Y)]\n",
    "\n",
    "X, Y = ej2(10000)\n",
    "\n",
    "c_min = c_asterisco(X, Y)"
   ]
  },
  {
   "cell_type": "code",
   "execution_count": 29,
   "metadata": {},
   "outputs": [
    {
     "data": {
      "text/latex": [
       "$E[X]$ obtenido: 0.986349, $\\mu$ esperado: 1.000000"
      ],
      "text/plain": [
       "<IPython.core.display.Latex object>"
      ]
     },
     "metadata": {},
     "output_type": "display_data"
    }
   ],
   "source": [
    "display(Latex(f'$E[X]$ obtenido: %f, $\\mu$ esperado: %f' % (np.mean(control(X, Y, 0.5, c_min)), mu_exponencial(lambda_1))))"
   ]
  },
  {
   "cell_type": "code",
   "execution_count": 30,
   "metadata": {},
   "outputs": [
    {
     "data": {
      "text/latex": [
       "$Var(X)$ obtenida: 0.984136, $\\sigma^2$ esperada: 1.000000"
      ],
      "text/plain": [
       "<IPython.core.display.Latex object>"
      ]
     },
     "metadata": {},
     "output_type": "display_data"
    }
   ],
   "source": [
    "display(Latex(f'$Var(X)$ obtenida: %f, $\\sigma^2$ esperada: %f' % (var(control(X, Y, 0.5, c_min)), sigma_cuadrado_exponencial(lambda_1))))"
   ]
  },
  {
   "cell_type": "markdown",
   "metadata": {},
   "source": [
    "## Ejercicio 3: Método estratificado, $\\lambda = 1$ "
   ]
  },
  {
   "cell_type": "markdown",
   "metadata": {},
   "source": [
    "**Probabilidades de obtener una observación en cada uno de los estratos**\n",
    "\n",
    "Ya que se utiliza la distribución continua uniforme estándar ($\\mathscr{U} (0,1)$) para generar las variables aleatorias de la distribución, se puede determinar la probabilidad $P \\Big(X \\in S_k\\Big) = p_k$ evaluando las probabilidades de $X\\in [0,1]$ en la distribución:\n",
    "\n",
    "*Para el estrato $S_1$, donde $X\\in [0,1]$*\n",
    "$$p_1 = P \\Big(X \\in S_1\\Big) = \\int_0^1 \\lambda e^{-\\lambda x} dx = 1 - e^{-1} \\approx 0.632120$$\n",
    "\n",
    "*Para el estrato $S_2$, donde $X\\in [1,3]$*\n",
    "$$p_2 = P \\Big(X \\in S_2\\Big) = \\int_1^3 \\lambda e^{-\\lambda x} dx = -e^{-3} + e^{-1} \\approx 0.318092$$\n",
    "\n",
    "*Para el estrato $S_3$, donde $X\\in [3,\\infty)$*\n",
    "$$p_3 = P \\Big(X \\in S_3\\Big) = \\int_3^\\infty \\lambda e^{-\\lambda x} dx = 0 + e^{-3} \\approx 0.049787$$\n",
    "\n",
    "De esta manera, cuando se generen los números aleatorios por $\\mathscr{U} (0,1)$, se obtiene:\n",
    "\n",
    "$$\\text{Si } 0 \\leq \\mathscr{U} (0,1) < 0.632120 \\rightarrow X \\in [0,1]$$\n",
    "\n",
    "$$\\text{Si } 0.632120 \\leq \\mathscr{U} (0,1) < 0.950213 \\rightarrow X \\in [1,3]$$\n",
    "\n",
    "$$\\text{Si } 0.950213 \\leq \\mathscr{U} (0,1) \\leq 1 \\rightarrow X \\in [3,\\infty)$$\n",
    "\n",
    "**Determinación del número de observaciones por cada estrato**\n",
    "\n",
    "Para obtener la reducción de varianza, debe considerarse el número de observaciones por cada uno de los estratos $n_k$, el cual se puede determinar por medio de la siguiente ecuación:\n",
    "\n",
    "$$n_k = \\Big(\\frac{p_k \\sigma_k}{\\sum _{k=1}^K p_k \\sigma_k}\\Big)n$$\n",
    "\n",
    "Donde $n$ corresponde al total de observaciones que se utilizarán para la simulación. Ya que se desconoce $\\sigma_k$, este se puede estimar por medio de una simulación simple. En este caso, se generarán números aleatorios de $\\mathscr{U} (0,1)$ hasta obtener 1000 de cada estrato, y a partir de la varianza de estas muestras, se determinará el número de observaciones que cada estrato deberá tener para la simulación. Para la simulación final, $n = 10,000$."
   ]
  },
  {
   "cell_type": "code",
   "execution_count": 60,
   "metadata": {},
   "outputs": [
    {
     "name": "stdout",
     "output_type": "stream",
     "text": [
      "[43381, 41418, 15201]\n"
     ]
    }
   ],
   "source": [
    "# Número de observaciones para la simulación final\n",
    "n = 100000\n",
    "##################################################\n",
    "\n",
    "x_1 = []\n",
    "x_2 = []\n",
    "x_3 = []\n",
    "while (len(x_1)<1000) or (len(x_2)<1000) or (len(x_3)<1000):\n",
    "    u = random.uniform(0,1)\n",
    "    if (u < 0.63212) and (len(x_1)<1000):\n",
    "        x_1.append(exponentialInv(u,1))\n",
    "    elif (u >= 0.63212 and u < 0.950213) and (len(x_2)<1000):\n",
    "        x_2.append(exponentialInv(u,1))\n",
    "    elif (len(x_3)<1000):\n",
    "        x_3.append(exponentialInv(u,1))\n",
    "        \n",
    "sigmas = []\n",
    "sigmas.append(np.var(x_1, ddof = 1)**0.5)\n",
    "sigmas.append(np.var(x_2, ddof = 1)**0.5)\n",
    "sigmas.append(np.var(x_3, ddof = 1)**0.5)\n",
    "p_k = [0.632120, 0.318092, 0.049787]\n",
    "\n",
    "def n_kCalc(n,sigmas, p_k):\n",
    "    total = 0\n",
    "    for i in range(len(sigmas)):\n",
    "        total += p_k[i]*sigmas[i]\n",
    "    n_k = [int(np.round(n*(p_k[i]*sigmas[i]/total))) for i in range(len(sigmas))]\n",
    "    return n_k\n",
    "\n",
    "n_k = n_kCalc(n, sigmas, p_k)\n",
    "print(n_k)"
   ]
  },
  {
   "cell_type": "markdown",
   "metadata": {},
   "source": [
    "**Cálculo de los estimadores**\n",
    "\n",
    "Una vez se determinaron los números de observaciones de los estratos, se puede proceder a la simulación como tal. En este caso, se obtendrá el estimador del valor esperado por medio de un promedio ponderado de los estratos, tal que:\n",
    "\n",
    "$$\\theta = \\sum _{k=1}^{K} p_k \\Big[\\frac{1}{n_k}\\sum_{i=1}^{n_k}f(X_i^k)\\Big] = \\sum _{k=1}^{K} p_k \\overline{f}_{n_k}^k$$\n",
    "\n",
    "De manera similar, la varianza se calcula:\n",
    "\n",
    "$$\\sigma^2 = \\sum _{k=1}^{K} \\frac{p_k^2 \\sigma^2}{n_k}$$\n",
    "\n",
    "Sin embargo, ya que se desconoce la varianza poblacional de los estratos, se utiliza $S_{k,n_k}^2$, tal que:\n",
    "$$S_{k,n_k}^2 = \\frac{1}{n_k -1} \\sum_{i=1}^{n_k} \\Big(f(X_i^k) - \\overline{f}_{n_k}^k\\Big)^2$$\n",
    "\n",
    "Por lo tanto:\n",
    "\n",
    "$$\\hat{\\sigma}^2 = \\sum _{k=1}^{K} \\frac{p_k^2 S_{k,n_k}^2}{n_k}$$"
   ]
  },
  {
   "cell_type": "code",
   "execution_count": 99,
   "metadata": {},
   "outputs": [
    {
     "name": "stdout",
     "output_type": "stream",
     "text": [
      "0.8745899198482666 1.651011906870864e-06\n"
     ]
    }
   ],
   "source": [
    "s_1 = []\n",
    "s_2 = []\n",
    "s_3 = []\n",
    "\n",
    "while (len(s_1)<n_k[0]) or (len(s_2)<n_k[1]) or (len(s_3)<n_k[2]):\n",
    "    u = random.uniform(0,1)\n",
    "    if (u < 0.63212) and (len(s_1)<n_k[0]):\n",
    "        s_1.append(exponentialInv(u,1))\n",
    "    elif (u >= 0.63212 and u < 0.950213) and (len(s_2)<n_k[1]):\n",
    "        s_2.append(exponentialInv(u,1))\n",
    "    elif (len(s_3)<n_k[2]):\n",
    "        s_3.append(exponentialInv(u,1))\n",
    "        \n",
    "mean_cells = []\n",
    "mean_cells.append(np.mean(s_1))\n",
    "mean_cells.append(np.mean(s_2))\n",
    "mean_cells.append(np.mean(s_3))\n",
    "\n",
    "sigma_cells = []\n",
    "sigma_cells.append(np.var(s_1, ddof = 1))\n",
    "sigma_cells.append(np.var(s_2, ddof = 1))\n",
    "sigma_cells.append(np.var(s_3, ddof = 1))\n",
    "\n",
    "theta = 0\n",
    "for i in range(len(mean_cells)):\n",
    "    theta += p_k[i]*mean_cells[i]\n",
    "    \n",
    "sigma = 0\n",
    "for i in range(len(sigma_cells)):\n",
    "    sigma += ((p_k[i]**2)*(sigma_cells[i])**2)/n_k[i]\n",
    "    \n",
    "print(theta, sigma)"
   ]
  },
  {
   "cell_type": "markdown",
   "metadata": {},
   "source": [
    "## Ejercicio 4\n",
    "\n",
    "### Sea X variable aleatoria exponencial con media 1; y dado X=x, Y es una variable aleatoria exponencial con media x (X y Y son variables aleatorias dependientes). Dé una forma eficiente para estimar P(XY≤3)\n",
    "\n",
    "Nótese que si X y Y son exponenciales, y $E[X]=1$ y $E[Y|X=x]=x$, como el valor esperado de una variable aleatoria exponencial es $\\frac{1}{\\lambda}$, $\\lambda_X = 1$ y $\\lambda_Y = \\frac{1}{x}$ para X=x."
   ]
  },
  {
   "cell_type": "code",
   "execution_count": 56,
   "metadata": {},
   "outputs": [],
   "source": [
    "random.seed(5050)\n",
    "def ej4(repeticiones):\n",
    "    X=[]\n",
    "    Y=[]\n",
    "    for i in range(repeticiones):\n",
    "        x=1\n",
    "        y=1\n",
    "        while x==1:\n",
    "            x=random.uniform(0,1)\n",
    "        X.append(exponentialInv(x,lambda_1))\n",
    "        while y==1:\n",
    "            y=random.uniform(0,1)\n",
    "        Y.append(exponentialInv(y,1/X[-1]))\n",
    "    return X,Y"
   ]
  },
  {
   "cell_type": "code",
   "execution_count": 57,
   "metadata": {},
   "outputs": [],
   "source": [
    "repeat = 10000\n",
    "X, Y = ej4(repeat)"
   ]
  },
  {
   "cell_type": "code",
   "execution_count": 58,
   "metadata": {},
   "outputs": [
    {
     "data": {
      "text/latex": [
       "$P(XY\\leq3)$ obtenida: 0.860800"
      ],
      "text/plain": [
       "<IPython.core.display.Latex object>"
      ]
     },
     "metadata": {},
     "output_type": "display_data"
    }
   ],
   "source": [
    "total = [0]*repeat\n",
    "for x in range(len(X)):\n",
    "    if X[x]*Y[x] <= 3:\n",
    "        total[x]=1\n",
    "display(Latex(f'$P(XY\\leq3)$ obtenida: %f' % (np.mean(total))))"
   ]
  }
 ],
 "metadata": {
  "kernelspec": {
   "display_name": "Python 3",
   "language": "python",
   "name": "python3"
  },
  "language_info": {
   "codemirror_mode": {
    "name": "ipython",
    "version": 3
   },
   "file_extension": ".py",
   "mimetype": "text/x-python",
   "name": "python",
   "nbconvert_exporter": "python",
   "pygments_lexer": "ipython3",
   "version": "3.8.5"
  }
 },
 "nbformat": 4,
 "nbformat_minor": 4
}
