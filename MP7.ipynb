{
 "cells": [
  {
   "cell_type": "markdown",
   "metadata": {},
   "source": [
    "<center>\n",
    "    <b> Microproyecto #7 </b>\n",
    "    <br/> Javier Anleu 17149\n",
    "    <br/> Andrea Argüello 17801\n",
    "</center>"
   ]
  },
  {
   "cell_type": "markdown",
   "metadata": {},
   "source": [
    "# Función inversa de distribución exponencial, E[X] y Var(X)"
   ]
  },
  {
   "cell_type": "code",
   "execution_count": 33,
   "metadata": {},
   "outputs": [],
   "source": [
    "import numpy as np\n",
    "import random\n",
    "import matplotlib.pyplot as plt\n",
    "from IPython.display import display, Latex"
   ]
  },
  {
   "cell_type": "code",
   "execution_count": 40,
   "metadata": {},
   "outputs": [],
   "source": [
    "exponentialInv = lambda x,lam: -np.log(1-x)/lam # donde x es U(0,1)\n",
    "mu_exponencial = lambda lam: 1/lam\n",
    "sigma_cuadrado_exponencial = lambda lam: 1/(lam**2)"
   ]
  },
  {
   "cell_type": "markdown",
   "metadata": {},
   "source": [
    "## Ejercicio 1: Variables antitéticas, $\\lambda = 1$ "
   ]
  },
  {
   "cell_type": "code",
   "execution_count": 8,
   "metadata": {},
   "outputs": [],
   "source": [
    "lambda_1 = 1"
   ]
  },
  {
   "cell_type": "code",
   "execution_count": 67,
   "metadata": {},
   "outputs": [],
   "source": [
    "def ej1(repeticiones):\n",
    "    X1 = []\n",
    "    X2 = []\n",
    "    Y = []\n",
    "    for i in range(repeticiones):\n",
    "        x = 1\n",
    "        while x == 1:\n",
    "            x = random.uniform(0,1)\n",
    "        X1.append(exponentialInv(x,lambda_1))\n",
    "        X2.append(exponentialInv(1-x,lambda_1))\n",
    "        Y.append((X1[-1]+X2[-1])/2)\n",
    "    return X1, X2, Y"
   ]
  },
  {
   "cell_type": "code",
   "execution_count": 51,
   "metadata": {},
   "outputs": [],
   "source": [
    "cov_xy = lambda X, Y: np.mean([x * y for x, y in zip(X, Y)])-np.mean(X)*np.mean(Y)"
   ]
  },
  {
   "cell_type": "code",
   "execution_count": 54,
   "metadata": {},
   "outputs": [],
   "source": [
    "var = lambda X: np.mean([x**2 for x in X])-(np.mean(X))**2"
   ]
  },
  {
   "cell_type": "code",
   "execution_count": 58,
   "metadata": {},
   "outputs": [],
   "source": [
    "var_mean_xy = lambda X, Y: (var(X) + var(Y) + 2*cov_xy(X,Y))/4"
   ]
  },
  {
   "cell_type": "code",
   "execution_count": 68,
   "metadata": {},
   "outputs": [],
   "source": [
    "X1, X2, Y = ej1(500)"
   ]
  },
  {
   "cell_type": "code",
   "execution_count": 69,
   "metadata": {},
   "outputs": [
    {
     "data": {
      "text/latex": [
       "$Cov(X_1,X_2)$ = -0.622501"
      ],
      "text/plain": [
       "<IPython.core.display.Latex object>"
      ]
     },
     "metadata": {},
     "output_type": "display_data"
    }
   ],
   "source": [
    "display(Latex(f'$Cov(X_1,X_2)$ = %f' % (cov_xy(X1,X2))))"
   ]
  },
  {
   "cell_type": "markdown",
   "metadata": {},
   "source": [
    "Queda demostrado que la covarianza entre $X_1$ y $X_2$ es negativa. Como ambas provienen de la distribución exponencial, entonces $X_1$ y $X_2$ son antitéticas."
   ]
  },
  {
   "cell_type": "code",
   "execution_count": 70,
   "metadata": {},
   "outputs": [
    {
     "data": {
      "text/latex": [
       "$E[Y]$ obtenido: 0.989551, $\\mu$ esperado: 1.000000"
      ],
      "text/plain": [
       "<IPython.core.display.Latex object>"
      ]
     },
     "metadata": {},
     "output_type": "display_data"
    }
   ],
   "source": [
    "display(Latex(f'$E[Y]$ obtenido: %f, $\\mu$ esperado: %f' % (np.mean(Y), mu_exponencial(lambda_1))))"
   ]
  },
  {
   "cell_type": "markdown",
   "metadata": {},
   "source": [
    "## Ejercicio 2: Variables de control, $\\lambda = 3$ "
   ]
  }
 ],
 "metadata": {
  "kernelspec": {
   "display_name": "Python 3",
   "language": "python",
   "name": "python3"
  },
  "language_info": {
   "codemirror_mode": {
    "name": "ipython",
    "version": 3
   },
   "file_extension": ".py",
   "mimetype": "text/x-python",
   "name": "python",
   "nbconvert_exporter": "python",
   "pygments_lexer": "ipython3",
   "version": "3.8.2"
  }
 },
 "nbformat": 4,
 "nbformat_minor": 4
}
